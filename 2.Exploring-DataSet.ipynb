{
    "metadata": {
        "kernelspec": {
            "name": "SQL",
            "display_name": "SQL",
            "language": "sql"
        },
        "language_info": {
            "name": "sql",
            "version": ""
        }
    },
    "nbformat_minor": 2,
    "nbformat": 4,
    "cells": [
        {
            "cell_type": "markdown",
            "source": [
                "<p style=\"text-align:center\">\n",
                "    <a href=\"https://skills.network/?utm_medium=Exinfluencer&utm_source=Exinfluencer&utm_content=000026UJ&utm_term=10006555&utm_id=NA-SkillsNetwork-Channel-SkillsNetworkCoursesIBMDA0321ENSkillsNetwork928-2022-01-01\" target=\"_blank\">\n",
                "    <img src=\"https://cf-courses-data.s3.us.cloud-object-storage.appdomain.cloud/assets/logos/SN_web_lightmode.png\" width=\"200\" alt=\"Skills Network Logo\"  />\n",
                "    </a>\n",
                "</p>\n"
            ],
            "metadata": {
                "azdata_cell_guid": "5545897f-dd30-49a8-8ee1-c8fdf6b90949"
            }
        },
        {
            "cell_type": "markdown",
            "source": [
                "# **Survey Dataset Exploration Lab**\n"
            ],
            "metadata": {
                "azdata_cell_guid": "89206ac9-d1d1-4a83-891d-be3e7688ea42"
            }
        },
        {
            "cell_type": "markdown",
            "source": [
                "## Objectives\n"
            ],
            "metadata": {
                "azdata_cell_guid": "81162ff2-dc68-4a02-9823-4831a53a9b5e"
            }
        },
        {
            "cell_type": "markdown",
            "source": [
                "- Load the dataset  that will be used through the project.\n",
                "- Explore the dataset.\n",
                "- Get familier with the data types."
            ],
            "metadata": {
                "azdata_cell_guid": "61a8676e-4324-4a18-8edd-7c4c2894c69d"
            },
            "attachments": {}
        },
        {
            "cell_type": "markdown",
            "source": [
                "## Load the dataset\n"
            ],
            "metadata": {
                "azdata_cell_guid": "1792b678-d7b6-4eef-a2a7-9178a22bd72a"
            }
        },
        {
            "cell_type": "markdown",
            "source": [
                "Import the required libraries.\n"
            ],
            "metadata": {
                "azdata_cell_guid": "ce0322ca-d8c5-4aff-9542-df68a7a54700"
            }
        },
        {
            "cell_type": "code",
            "source": [
                "import pandas as pd\n",
                "import numpy as np"
            ],
            "metadata": {
                "tags": [],
                "azdata_cell_guid": "fbb82e2b-2ea8-4ba5-ba28-0c9132f57df4",
                "language": "sql"
            },
            "outputs": [],
            "execution_count": 1
        },
        {
            "cell_type": "markdown",
            "source": [
                "The dataset is available at the below url.\n"
            ],
            "metadata": {
                "azdata_cell_guid": "3ca9772e-6593-4a3f-bbf9-104138a6d8ce"
            }
        },
        {
            "cell_type": "code",
            "source": [
                "dataset_url = \"https://cf-courses-data.s3.us.cloud-object-storage.appdomain.cloud/IBM-DA0321EN-SkillsNetwork/LargeData/m1_survey_data.csv\""
            ],
            "metadata": {
                "tags": [],
                "azdata_cell_guid": "efb7ddb4-30c5-4f80-9ef3-e11ddf0dfce7",
                "language": "sql"
            },
            "outputs": [],
            "execution_count": 2
        },
        {
            "cell_type": "markdown",
            "source": [
                "Load the data available at dataset_url into a dataframe.\n"
            ],
            "metadata": {
                "azdata_cell_guid": "342b3de7-fc25-4d0a-98b3-99a4accdd498"
            }
        },
        {
            "cell_type": "code",
            "source": [
                "# your code goes here\n",
                "df = pd.read_csv(dataset_url)"
            ],
            "metadata": {
                "tags": [],
                "azdata_cell_guid": "0fdb3b53-bed9-424f-b13d-ce34f5172030",
                "language": "sql"
            },
            "outputs": [],
            "execution_count": 4
        },
        {
            "cell_type": "markdown",
            "source": [
                "## Explore the data set\n"
            ],
            "metadata": {
                "azdata_cell_guid": "64730ca7-b348-4f7b-9707-82fcc741883c"
            }
        },
        {
            "cell_type": "markdown",
            "source": [
                "It is a good idea to print the top 5 rows of the dataset to get a feel of how the dataset will look.\n"
            ],
            "metadata": {
                "azdata_cell_guid": "16c277ac-cb38-4821-9428-8f213ab0ff4c"
            }
        },
        {
            "cell_type": "markdown",
            "source": [
                "Display the top 5 rows and columns from your dataset.\n"
            ],
            "metadata": {
                "azdata_cell_guid": "474a0c6e-d4b0-49bb-b834-048cbe13940d"
            }
        },
        {
            "cell_type": "code",
            "source": [
                "df.head(5)"
            ],
            "metadata": {
                "tags": [],
                "azdata_cell_guid": "a7af76d4-deef-4572-b250-a561b0d14bbc",
                "language": "sql"
            },
            "outputs": [
                {
                    "output_type": "execute_result",
                    "execution_count": 5,
                    "data": {
                        "text/html": "<div>\n<style scoped>\n    .dataframe tbody tr th:only-of-type {\n        vertical-align: middle;\n    }\n\n    .dataframe tbody tr th {\n        vertical-align: top;\n    }\n\n    .dataframe thead th {\n        text-align: right;\n    }\n</style>\n<table border=\"1\" class=\"dataframe\">\n  <thead>\n    <tr style=\"text-align: right;\">\n      <th></th>\n      <th>Respondent</th>\n      <th>MainBranch</th>\n      <th>Hobbyist</th>\n      <th>OpenSourcer</th>\n      <th>OpenSource</th>\n      <th>Employment</th>\n      <th>Country</th>\n      <th>Student</th>\n      <th>EdLevel</th>\n      <th>UndergradMajor</th>\n      <th>...</th>\n      <th>WelcomeChange</th>\n      <th>SONewContent</th>\n      <th>Age</th>\n      <th>Gender</th>\n      <th>Trans</th>\n      <th>Sexuality</th>\n      <th>Ethnicity</th>\n      <th>Dependents</th>\n      <th>SurveyLength</th>\n      <th>SurveyEase</th>\n    </tr>\n  </thead>\n  <tbody>\n    <tr>\n      <th>0</th>\n      <td>4</td>\n      <td>I am a developer by profession</td>\n      <td>No</td>\n      <td>Never</td>\n      <td>The quality of OSS and closed source software ...</td>\n      <td>Employed full-time</td>\n      <td>United States</td>\n      <td>No</td>\n      <td>Bachelor’s degree (BA, BS, B.Eng., etc.)</td>\n      <td>Computer science, computer engineering, or sof...</td>\n      <td>...</td>\n      <td>Just as welcome now as I felt last year</td>\n      <td>Tech articles written by other developers;Indu...</td>\n      <td>22.0</td>\n      <td>Man</td>\n      <td>No</td>\n      <td>Straight / Heterosexual</td>\n      <td>White or of European descent</td>\n      <td>No</td>\n      <td>Appropriate in length</td>\n      <td>Easy</td>\n    </tr>\n    <tr>\n      <th>1</th>\n      <td>9</td>\n      <td>I am a developer by profession</td>\n      <td>Yes</td>\n      <td>Once a month or more often</td>\n      <td>The quality of OSS and closed source software ...</td>\n      <td>Employed full-time</td>\n      <td>New Zealand</td>\n      <td>No</td>\n      <td>Some college/university study without earning ...</td>\n      <td>Computer science, computer engineering, or sof...</td>\n      <td>...</td>\n      <td>Just as welcome now as I felt last year</td>\n      <td>NaN</td>\n      <td>23.0</td>\n      <td>Man</td>\n      <td>No</td>\n      <td>Bisexual</td>\n      <td>White or of European descent</td>\n      <td>No</td>\n      <td>Appropriate in length</td>\n      <td>Neither easy nor difficult</td>\n    </tr>\n    <tr>\n      <th>2</th>\n      <td>13</td>\n      <td>I am a developer by profession</td>\n      <td>Yes</td>\n      <td>Less than once a month but more than once per ...</td>\n      <td>OSS is, on average, of HIGHER quality than pro...</td>\n      <td>Employed full-time</td>\n      <td>United States</td>\n      <td>No</td>\n      <td>Master’s degree (MA, MS, M.Eng., MBA, etc.)</td>\n      <td>Computer science, computer engineering, or sof...</td>\n      <td>...</td>\n      <td>Somewhat more welcome now than last year</td>\n      <td>Tech articles written by other developers;Cour...</td>\n      <td>28.0</td>\n      <td>Man</td>\n      <td>No</td>\n      <td>Straight / Heterosexual</td>\n      <td>White or of European descent</td>\n      <td>Yes</td>\n      <td>Appropriate in length</td>\n      <td>Easy</td>\n    </tr>\n    <tr>\n      <th>3</th>\n      <td>16</td>\n      <td>I am a developer by profession</td>\n      <td>Yes</td>\n      <td>Never</td>\n      <td>The quality of OSS and closed source software ...</td>\n      <td>Employed full-time</td>\n      <td>United Kingdom</td>\n      <td>No</td>\n      <td>Master’s degree (MA, MS, M.Eng., MBA, etc.)</td>\n      <td>NaN</td>\n      <td>...</td>\n      <td>Just as welcome now as I felt last year</td>\n      <td>Tech articles written by other developers;Indu...</td>\n      <td>26.0</td>\n      <td>Man</td>\n      <td>No</td>\n      <td>Straight / Heterosexual</td>\n      <td>White or of European descent</td>\n      <td>No</td>\n      <td>Appropriate in length</td>\n      <td>Neither easy nor difficult</td>\n    </tr>\n    <tr>\n      <th>4</th>\n      <td>17</td>\n      <td>I am a developer by profession</td>\n      <td>Yes</td>\n      <td>Less than once a month but more than once per ...</td>\n      <td>The quality of OSS and closed source software ...</td>\n      <td>Employed full-time</td>\n      <td>Australia</td>\n      <td>No</td>\n      <td>Bachelor’s degree (BA, BS, B.Eng., etc.)</td>\n      <td>Computer science, computer engineering, or sof...</td>\n      <td>...</td>\n      <td>Just as welcome now as I felt last year</td>\n      <td>Tech articles written by other developers;Indu...</td>\n      <td>29.0</td>\n      <td>Man</td>\n      <td>No</td>\n      <td>Straight / Heterosexual</td>\n      <td>Hispanic or Latino/Latina;Multiracial</td>\n      <td>No</td>\n      <td>Appropriate in length</td>\n      <td>Easy</td>\n    </tr>\n  </tbody>\n</table>\n<p>5 rows × 85 columns</p>\n</div>",
                        "text/plain": "   Respondent                      MainBranch Hobbyist  \\\n0           4  I am a developer by profession       No   \n1           9  I am a developer by profession      Yes   \n2          13  I am a developer by profession      Yes   \n3          16  I am a developer by profession      Yes   \n4          17  I am a developer by profession      Yes   \n\n                                         OpenSourcer  \\\n0                                              Never   \n1                         Once a month or more often   \n2  Less than once a month but more than once per ...   \n3                                              Never   \n4  Less than once a month but more than once per ...   \n\n                                          OpenSource          Employment  \\\n0  The quality of OSS and closed source software ...  Employed full-time   \n1  The quality of OSS and closed source software ...  Employed full-time   \n2  OSS is, on average, of HIGHER quality than pro...  Employed full-time   \n3  The quality of OSS and closed source software ...  Employed full-time   \n4  The quality of OSS and closed source software ...  Employed full-time   \n\n          Country Student                                            EdLevel  \\\n0   United States      No           Bachelor’s degree (BA, BS, B.Eng., etc.)   \n1     New Zealand      No  Some college/university study without earning ...   \n2   United States      No        Master’s degree (MA, MS, M.Eng., MBA, etc.)   \n3  United Kingdom      No        Master’s degree (MA, MS, M.Eng., MBA, etc.)   \n4       Australia      No           Bachelor’s degree (BA, BS, B.Eng., etc.)   \n\n                                      UndergradMajor  ...  \\\n0  Computer science, computer engineering, or sof...  ...   \n1  Computer science, computer engineering, or sof...  ...   \n2  Computer science, computer engineering, or sof...  ...   \n3                                                NaN  ...   \n4  Computer science, computer engineering, or sof...  ...   \n\n                              WelcomeChange  \\\n0   Just as welcome now as I felt last year   \n1   Just as welcome now as I felt last year   \n2  Somewhat more welcome now than last year   \n3   Just as welcome now as I felt last year   \n4   Just as welcome now as I felt last year   \n\n                                        SONewContent   Age Gender Trans  \\\n0  Tech articles written by other developers;Indu...  22.0    Man    No   \n1                                                NaN  23.0    Man    No   \n2  Tech articles written by other developers;Cour...  28.0    Man    No   \n3  Tech articles written by other developers;Indu...  26.0    Man    No   \n4  Tech articles written by other developers;Indu...  29.0    Man    No   \n\n                 Sexuality                              Ethnicity Dependents  \\\n0  Straight / Heterosexual           White or of European descent         No   \n1                 Bisexual           White or of European descent         No   \n2  Straight / Heterosexual           White or of European descent        Yes   \n3  Straight / Heterosexual           White or of European descent         No   \n4  Straight / Heterosexual  Hispanic or Latino/Latina;Multiracial         No   \n\n            SurveyLength                  SurveyEase  \n0  Appropriate in length                        Easy  \n1  Appropriate in length  Neither easy nor difficult  \n2  Appropriate in length                        Easy  \n3  Appropriate in length  Neither easy nor difficult  \n4  Appropriate in length                        Easy  \n\n[5 rows x 85 columns]"
                    },
                    "metadata": {}
                }
            ],
            "execution_count": 5
        },
        {
            "cell_type": "markdown",
            "source": [
                "## Find out the number of rows and columns\n"
            ],
            "metadata": {
                "azdata_cell_guid": "79d8e274-16da-4198-ab24-cfabc68fdf90"
            }
        },
        {
            "cell_type": "markdown",
            "source": [
                "Start by exploring the numbers of rows and columns of data in the dataset.\n"
            ],
            "metadata": {
                "azdata_cell_guid": "e4875488-e94c-4656-9099-b1c1bf1dd233"
            }
        },
        {
            "cell_type": "markdown",
            "source": [
                "Print the number of rows and columns in the dataset.\n"
            ],
            "metadata": {
                "azdata_cell_guid": "e8599133-34ca-4571-82d3-11056475a255"
            }
        },
        {
            "cell_type": "code",
            "source": [
                "# your code goes here\n",
                "cols = len(df.columns)\n",
                "rows = df.shape[0]\n",
                "print(f\"Data set contains {cols} columns and {rows} rows\")"
            ],
            "metadata": {
                "tags": [],
                "azdata_cell_guid": "d97572e9-d09b-47e8-b828-532efbdaf40b",
                "language": "sql"
            },
            "outputs": [
                {
                    "output_type": "stream",
                    "name": "stdout",
                    "text": "Data set contains 85 columns and 11552 rows\n"
                }
            ],
            "execution_count": 9
        },
        {
            "cell_type": "markdown",
            "source": [
                "## Identify the data types of each column\n"
            ],
            "metadata": {
                "azdata_cell_guid": "f05e1de7-b49f-4047-9e44-056a0f2f60c3"
            }
        },
        {
            "cell_type": "markdown",
            "source": [
                "Explore the dataset and identify the data types of each column.\n"
            ],
            "metadata": {
                "azdata_cell_guid": "83b20356-e3fd-48f1-89b6-169f8ac966c4"
            }
        },
        {
            "cell_type": "markdown",
            "source": [
                "Check the datatype of all columns.\n"
            ],
            "metadata": {
                "azdata_cell_guid": "4c7f4574-0f8f-41d3-beb2-a3ad57c43d5b"
            }
        },
        {
            "cell_type": "code",
            "source": [
                "df.info()"
            ],
            "metadata": {
                "tags": [],
                "azdata_cell_guid": "8f899aa3-74f7-446e-b8d3-7b6fd5dbd9a8",
                "language": "sql"
            },
            "outputs": [
                {
                    "output_type": "stream",
                    "name": "stdout",
                    "text": "<class 'pandas.core.frame.DataFrame'>\nRangeIndex: 11552 entries, 0 to 11551\nData columns (total 85 columns):\n #   Column                  Non-Null Count  Dtype  \n---  ------                  --------------  -----  \n 0   Respondent              11552 non-null  int64  \n 1   MainBranch              11552 non-null  object \n 2   Hobbyist                11552 non-null  object \n 3   OpenSourcer             11552 non-null  object \n 4   OpenSource              11471 non-null  object \n 5   Employment              11552 non-null  object \n 6   Country                 11552 non-null  object \n 7   Student                 11499 non-null  object \n 8   EdLevel                 11436 non-null  object \n 9   UndergradMajor          10812 non-null  object \n 10  EduOther                11388 non-null  object \n 11  OrgSize                 11454 non-null  object \n 12  DevType                 11485 non-null  object \n 13  YearsCode               11543 non-null  object \n 14  Age1stCode              11539 non-null  object \n 15  YearsCodePro            11536 non-null  object \n 16  CareerSat               11552 non-null  object \n 17  JobSat                  11551 non-null  object \n 18  MgrIdiot                11054 non-null  object \n 19  MgrMoney                11050 non-null  object \n 20  MgrWant                 11054 non-null  object \n 21  JobSeek                 11552 non-null  object \n 22  LastHireDate            11552 non-null  object \n 23  LastInt                 11129 non-null  object \n 24  FizzBuzz                11515 non-null  object \n 25  JobFactors              11549 non-null  object \n 26  ResumeUpdate            11511 non-null  object \n 27  CurrencySymbol          11552 non-null  object \n 28  CurrencyDesc            11552 non-null  object \n 29  CompTotal               10737 non-null  float64\n 30  CompFreq                11346 non-null  object \n 31  ConvertedComp           10730 non-null  float64\n 32  WorkWeekHrs             11427 non-null  float64\n 33  WorkPlan                11429 non-null  object \n 34  WorkChallenge           11384 non-null  object \n 35  WorkRemote              11544 non-null  object \n 36  WorkLoc                 11520 non-null  object \n 37  ImpSyn                  11547 non-null  object \n 38  CodeRev                 11551 non-null  object \n 39  CodeRevHrs              9083 non-null   float64\n 40  UnitTests               11523 non-null  object \n 41  PurchaseHow             11354 non-null  object \n 42  PurchaseWhat            11514 non-null  object \n 43  LanguageWorkedWith      11541 non-null  object \n 44  LanguageDesireNextYear  11415 non-null  object \n 45  DatabaseWorkedWith      11096 non-null  object \n 46  DatabaseDesireNextYear  10497 non-null  object \n 47  PlatformWorkedWith      11130 non-null  object \n 48  PlatformDesireNextYear  10991 non-null  object \n 49  WebFrameWorkedWith      10139 non-null  object \n 50  WebFrameDesireNextYear  9918 non-null   object \n 51  MiscTechWorkedWith      9343 non-null   object \n 52  MiscTechDesireNextYear  10078 non-null  object \n 53  DevEnviron              11523 non-null  object \n 54  OpSys                   11518 non-null  object \n 55  Containers              11470 non-null  object \n 56  BlockchainOrg           9198 non-null   object \n 57  BlockchainIs            8915 non-null   object \n 58  BetterLife              11452 non-null  object \n 59  ITperson                11517 non-null  object \n 60  OffOn                   11514 non-null  object \n 61  SocialMedia             11251 non-null  object \n 62  Extraversion            11532 non-null  object \n 63  ScreenName              11039 non-null  object \n 64  SOVisit1st              11227 non-null  object \n 65  SOVisitFreq             11547 non-null  object \n 66  SOVisitTo               11551 non-null  object \n 67  SOFindAnswer            11549 non-null  object \n 68  SOTimeSaved             11501 non-null  object \n 69  SOHowMuchTime           9616 non-null   object \n 70  SOAccount               11551 non-null  object \n 71  SOPartFreq              10404 non-null  object \n 72  SOJobs                  11546 non-null  object \n 73  EntTeams                11547 non-null  object \n 74  SOComm                  11552 non-null  object \n 75  WelcomeChange           11463 non-null  object \n 76  SONewContent            9557 non-null   object \n 77  Age                     11255 non-null  float64\n 78  Gender                  11477 non-null  object \n 79  Trans                   11429 non-null  object \n 80  Sexuality               11005 non-null  object \n 81  Ethnicity               10869 non-null  object \n 82  Dependents              11408 non-null  object \n 83  SurveyLength            11533 non-null  object \n 84  SurveyEase              11538 non-null  object \ndtypes: float64(5), int64(1), object(79)\nmemory usage: 7.5+ MB\n"
                }
            ],
            "execution_count": 14
        },
        {
            "cell_type": "markdown",
            "source": [
                "Let see the mean age of the survey participants.\n"
            ],
            "metadata": {
                "azdata_cell_guid": "8568977c-97d6-4d65-8997-69ede46cfa8a"
            }
        },
        {
            "cell_type": "code",
            "source": [
                "avg_age = round(df['Age'].mean())\n",
                "print(f\"Average age of all participants : {avg_age}\")"
            ],
            "metadata": {
                "tags": [],
                "azdata_cell_guid": "87c129c1-d41a-4bc1-bbfa-304ee1ebe7f0",
                "language": "sql"
            },
            "outputs": [
                {
                    "output_type": "stream",
                    "name": "stdout",
                    "text": "Average age of all participants : 31\n"
                }
            ],
            "execution_count": 18
        },
        {
            "cell_type": "markdown",
            "source": [
                "Checking youngest and oldest age when they complete survey "
            ],
            "metadata": {
                "azdata_cell_guid": "21d3cc33-c7ec-400e-b61f-27a0e1161c28"
            }
        },
        {
            "cell_type": "code",
            "source": [
                "max_age = df['Age'].max()\n",
                "min_age = df['Age'].min()\n",
                "print(f\"Oldest Age is {max_age}\")\n",
                "print(f\"Oldest Age is {min_age}\")\n"
            ],
            "metadata": {
                "tags": [],
                "azdata_cell_guid": "35a2b021-ac32-4d6c-9a1b-15b1fed03a88",
                "language": "sql"
            },
            "outputs": [
                {
                    "output_type": "stream",
                    "name": "stdout",
                    "text": "Oldest Age is 99.0\nOldest Age is 16.0\n"
                }
            ],
            "execution_count": 30
        },
        {
            "cell_type": "markdown",
            "source": [
                "Number of countries in Survey"
            ],
            "metadata": {
                "tags": [],
                "azdata_cell_guid": "4acb632c-9252-4e11-9b17-19e37781bab6"
            }
        },
        {
            "cell_type": "code",
            "source": [
                "total_countries = len(df['Country'].unique())\n",
                "total_countries"
            ],
            "metadata": {
                "tags": [],
                "azdata_cell_guid": "767bad7e-5196-42cc-99de-41183f10b75f",
                "language": "sql"
            },
            "outputs": [
                {
                    "output_type": "execute_result",
                    "execution_count": 50,
                    "data": {
                        "text/plain": "135"
                    },
                    "metadata": {}
                }
            ],
            "execution_count": 50
        },
        {
            "cell_type": "markdown",
            "source": [
                "Top 5 countries most developers come from"
            ],
            "metadata": {
                "azdata_cell_guid": "357cf22d-514f-453e-adfa-4934e601c2a3"
            }
        },
        {
            "cell_type": "code",
            "source": [
                "top5 = df['Country'].value_counts().to_frame().head(5)\n",
                "top5"
            ],
            "metadata": {
                "tags": [],
                "azdata_cell_guid": "b38c5290-934c-40f4-a2d3-bc3263a652d1",
                "language": "sql"
            },
            "outputs": [
                {
                    "output_type": "execute_result",
                    "execution_count": 37,
                    "data": {
                        "text/html": "<div>\n<style scoped>\n    .dataframe tbody tr th:only-of-type {\n        vertical-align: middle;\n    }\n\n    .dataframe tbody tr th {\n        vertical-align: top;\n    }\n\n    .dataframe thead th {\n        text-align: right;\n    }\n</style>\n<table border=\"1\" class=\"dataframe\">\n  <thead>\n    <tr style=\"text-align: right;\">\n      <th></th>\n      <th>Country</th>\n    </tr>\n  </thead>\n  <tbody>\n    <tr>\n      <th>United States</th>\n      <td>3173</td>\n    </tr>\n    <tr>\n      <th>India</th>\n      <td>911</td>\n    </tr>\n    <tr>\n      <th>United Kingdom</th>\n      <td>841</td>\n    </tr>\n    <tr>\n      <th>Germany</th>\n      <td>715</td>\n    </tr>\n    <tr>\n      <th>Canada</th>\n      <td>442</td>\n    </tr>\n  </tbody>\n</table>\n</div>",
                        "text/plain": "                Country\nUnited States      3173\nIndia               911\nUnited Kingdom      841\nGermany             715\nCanada              442"
                    },
                    "metadata": {}
                }
            ],
            "execution_count": 37
        },
        {
            "cell_type": "markdown",
            "source": [
                "Top 5 countries own the most developers?\n"
            ],
            "metadata": {
                "azdata_cell_guid": "d3089940-8a1b-4f3e-9518-cb22c68a265d"
            }
        },
        {
            "cell_type": "code",
            "source": [
                "df_c = df.groupby('Country')['Respondent'].count().to_frame()\n",
                "top5 = df_c.sort_values('Respondent', ascending=False).head(5)\n",
                "top5"
            ],
            "metadata": {
                "tags": [],
                "azdata_cell_guid": "5a4162ba-eb17-4d2e-8845-3a14bbfe3552",
                "language": "sql"
            },
            "outputs": [
                {
                    "output_type": "execute_result",
                    "execution_count": 59,
                    "data": {
                        "text/html": "<div>\n<style scoped>\n    .dataframe tbody tr th:only-of-type {\n        vertical-align: middle;\n    }\n\n    .dataframe tbody tr th {\n        vertical-align: top;\n    }\n\n    .dataframe thead th {\n        text-align: right;\n    }\n</style>\n<table border=\"1\" class=\"dataframe\">\n  <thead>\n    <tr style=\"text-align: right;\">\n      <th></th>\n      <th>Respondent</th>\n    </tr>\n    <tr>\n      <th>Country</th>\n      <th></th>\n    </tr>\n  </thead>\n  <tbody>\n    <tr>\n      <th>United States</th>\n      <td>3173</td>\n    </tr>\n    <tr>\n      <th>India</th>\n      <td>911</td>\n    </tr>\n    <tr>\n      <th>United Kingdom</th>\n      <td>841</td>\n    </tr>\n    <tr>\n      <th>Germany</th>\n      <td>715</td>\n    </tr>\n    <tr>\n      <th>Canada</th>\n      <td>442</td>\n    </tr>\n  </tbody>\n</table>\n</div>",
                        "text/plain": "                Respondent\nCountry                   \nUnited States         3173\nIndia                  911\nUnited Kingdom         841\nGermany                715\nCanada                 442"
                    },
                    "metadata": {}
                }
            ],
            "execution_count": 59
        }
    ]
}